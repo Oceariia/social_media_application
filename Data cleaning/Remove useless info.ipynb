{
 "cells": [
  {
   "cell_type": "code",
   "execution_count": null,
   "id": "da7d85d2",
   "metadata": {},
   "outputs": [],
   "source": [
    "import re\n",
    "import pandas as pd\n",
    "import nltk\n",
    "import string\n",
    "import sklearn\n",
    "from langdetect import detect\n",
    "import numpy as np\n",
    "\n",
    "# Remove '@user' mentions\n",
    "def clean_data(text):\n",
    "    text = re.sub(r'@\\w+\\s', '', text)\n",
    "    return text\n",
    "\n",
    "# Remove Dutch words from translated file\n",
    "def drop_en(text):\n",
    "    if text.strip() == '':\n",
    "        return text\n",
    "    else:\n",
    "        try:\n",
    "            language = detect(text)\n",
    "            if language == 'nl':\n",
    "                return text\n",
    "            else:\n",
    "                return ''\n",
    "        except:\n",
    "            return ''\n",
    "        \n",
    "#Remove the url links\n",
    "pattern = r'(http|https|ftp):\\/\\/[0-9a-zA-Z.]+\\.[a-zA-Z]([\\/]?([\\w\\W#!:.?+=&%@!-/])*)?$'\n",
    "for file in List:\n",
    "    file['full_text'] = file['full_text'].str.replace(pattern, ' ', regex = True)\n",
    "    print(file['full_text'].head())\n",
    "\n",
    "\n"
   ]
  },
  {
   "cell_type": "code",
   "execution_count": null,
   "id": "a2d917d6",
   "metadata": {},
   "outputs": [],
   "source": [
    "import nltk\n",
    "import string\n",
    "from nltk.corpus import stopwords\n",
    "from nltk.corpus import wordnet\n",
    "\n",
    "def StopWords(text):\n",
    "    # Split the text into words\n",
    "    words = text.split()\n",
    "    # Remove stop words\n",
    "    words = [word for word in words if word.lower() not in en_stops]\n",
    "    # Join the remaining words back together\n",
    "    text = ' '.join(words)\n",
    "    return text\n",
    "\n",
    "\n",
    "#delete stopwords           \n",
    "df['new_text'] = df['new_text'].astype(str).apply(StopWords)\n"
   ]
  }
 ],
 "metadata": {
  "kernelspec": {
   "display_name": "Python 3 (ipykernel)",
   "language": "python",
   "name": "python3"
  },
  "language_info": {
   "codemirror_mode": {
    "name": "ipython",
    "version": 3
   },
   "file_extension": ".py",
   "mimetype": "text/x-python",
   "name": "python",
   "nbconvert_exporter": "python",
   "pygments_lexer": "ipython3",
   "version": "3.9.13"
  }
 },
 "nbformat": 4,
 "nbformat_minor": 5
}
