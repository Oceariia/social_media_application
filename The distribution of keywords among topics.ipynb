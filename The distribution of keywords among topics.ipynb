{
 "cells": [
  {
   "cell_type": "code",
   "execution_count": null,
   "id": "6d5db3f8",
   "metadata": {},
   "outputs": [],
   "source": [
    "def Distribution(word, vectorizer, model):\n",
    "    # Get the vocabulary of the vectorizer used during LDA training\n",
    "    vocabulary = vectorizer.get_feature_names_out()\n",
    "    # Find the index of the word in the vocabulary\n",
    "    word_index = vocabulary.tolist().index(word) if word in vocabulary.tolist() else -1\n",
    "    # Extract the topic-word distribution for the word\n",
    "    word_topic_probs = []\n",
    "    if word_index!=-1:\n",
    "        for topic_index in range(model.n_components):\n",
    "            word_topic_prob = model.components_[topic_index, word_index]\n",
    "            word_topic_probs.append(word_topic_prob)\n",
    "        # Normalize the probabilities to sum up to 1\n",
    "        word_topic_probs /= np.sum(word_topic_probs)\n",
    "        import matplotlib.pyplot as plt\n",
    "        from matplotlib.ticker import MaxNLocator\n",
    "        # Plot the topic probabilities as a bar chart\n",
    "        plt.bar(range(model.n_components), word_topic_probs)\n",
    "        plt.xlabel('Topic')\n",
    "        plt.ylabel('Probability')\n",
    "        plt.xticks(range(topic_index+1))\n",
    "        plt.ylim(0, 1)\n",
    "        plt.title(f'Topic Distribution for Word \"{word}\"')\n",
    "        plt.savefig('/Users/raphael/Desktop/FaceBook Data/topic modellig/Topic_Varkens/duplicated_%s.jpg'%word)\n",
    "        plt.show()\n",
    "\n",
    "    \n",
    "\n",
    "word = ['nitrogen',\n",
    "'emission',\n",
    "'piglet',\n",
    "'maternity',\n",
    "'feed',\n",
    "'fever',\n",
    "'organic',\n",
    "'policy',\n",
    "'employee',\n",
    "'manure',\n",
    "'war',\n",
    "'slaughter',\n",
    "'price'\n",
    "] # defined by supply-chain knowledge\n",
    "\n",
    "for i in word:\n",
    "    Distribution(i, vectorizer, model)"
   ]
  }
 ],
 "metadata": {
  "kernelspec": {
   "display_name": "Python 3 (ipykernel)",
   "language": "python",
   "name": "python3"
  },
  "language_info": {
   "codemirror_mode": {
    "name": "ipython",
    "version": 3
   },
   "file_extension": ".py",
   "mimetype": "text/x-python",
   "name": "python",
   "nbconvert_exporter": "python",
   "pygments_lexer": "ipython3",
   "version": "3.9.13"
  }
 },
 "nbformat": 4,
 "nbformat_minor": 5
}
