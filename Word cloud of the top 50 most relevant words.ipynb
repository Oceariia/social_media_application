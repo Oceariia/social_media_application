{
 "cells": [
  {
   "cell_type": "code",
   "execution_count": null,
   "id": "4bb98492",
   "metadata": {},
   "outputs": [],
   "source": [
    "from gensim.models import Word2Vec\n",
    "import pandas as pd\n",
    "\n",
    "# build up the corpus\n",
    "df = pd.read_excel('/Users/raphael/Desktop/Twitter Data/MergedFile_s_trans.xlsx',sheet_name = 'Sheet2')\n",
    "for i in range(len(df)):\n",
    "    df['new_text'].iloc[i] = str(df['new_text'].iloc[i]).split()\n",
    "texts = df.new_text.tolist()\n",
    "\n",
    "# Example model configuration\n",
    "model = Word2Vec()\n",
    "model.build_vocab(texts)\n",
    "model.train(texts, total_examples=model.corpus_count, epochs=10)\n",
    "\n",
    "inp = input('Intended word')\n",
    "\n",
    "# show the top 20 relevant words to the intended word\n",
    "model.wv.most_similar(positive=['inp'], topn=20)\n",
    "\n",
    "\n",
    "# make a wordcloud of the relevant words  \n",
    "from wordcloud import WordCloud\n",
    "import matplotlib.pyplot as plt\n",
    "\n",
    "similar_words_to_stable = model.wv.most_similar(positive=['inp'], topn=50)\n",
    "# Create a dictionary of words and their similarity values\n",
    "word_similarity = {word: similarity for word, similarity in similar_words_to_stable}\n",
    "# Generate the word cloud with the size based on similarity values\n",
    "wordcloud = WordCloud(width=800, height=400, max_font_size=120, min_font_size=20,colormap='twilight', background_color=\"white\", prefer_horizontal=1).generate_from_frequencies(word_similarity)\n",
    "\n",
    "# Plot the word cloud\n",
    "plt.figure(figsize=(10, 6))\n",
    "plt.imshow(wordcloud, interpolation='bilinear')\n",
    "plt.axis('off')\n",
    "plt.title(f''Most Similar Words to {inp}', pad=20)\n",
    "plt.show()"
   ]
  }
 ],
 "metadata": {
  "kernelspec": {
   "display_name": "Python 3 (ipykernel)",
   "language": "python",
   "name": "python3"
  },
  "language_info": {
   "codemirror_mode": {
    "name": "ipython",
    "version": 3
   },
   "file_extension": ".py",
   "mimetype": "text/x-python",
   "name": "python",
   "nbconvert_exporter": "python",
   "pygments_lexer": "ipython3",
   "version": "3.9.13"
  }
 },
 "nbformat": 4,
 "nbformat_minor": 5
}
