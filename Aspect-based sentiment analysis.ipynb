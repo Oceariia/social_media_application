{
 "cells": [
  {
   "cell_type": "code",
   "execution_count": null,
   "id": "e638c0cc",
   "metadata": {},
   "outputs": [],
   "source": [
    "import paddlenlp\n",
    "from pprint import pprint\n",
    "from paddlenlp import Taskflow\n",
    "import pandas as pd\n",
    "import time\n",
    "\n",
    "df = pd.read_excel('/Users/raphael/Desktop/Twitter Data/MergedFile_s_zh.xlsx') #import the file translated into Chinese\n",
    "\n",
    "# Aspect, opinion, sentiment extraction\n",
    "schema = {'评价维度': ['观点词', '情感倾向[正向，负向]']} # Define the schema for opinion extraction\n",
    "ie = Taskflow('information_extraction', schema=schema)\n",
    "ie.set_schema(schema) # Reset schema\n",
    "\n",
    "# Function to save result into an Excel file\n",
    "def save_result_to_excel(result_dict, filename):\n",
    "    df_result = pd.DataFrame.from_dict(result_dict, orient='index', columns=['Result'])\n",
    "    df_result.index.name = 'Index'\n",
    "    try:\n",
    "        existing_df = pd.read_excel(filename, index_col='Index')\n",
    "        df_result = pd.concat([existing_df, df_result])\n",
    "    except FileNotFoundError:\n",
    "        pass\n",
    "\n",
    "    df_result.to_excel(filename, index=True)"
   ]
  }
 ],
 "metadata": {
  "kernelspec": {
   "display_name": "Python 3 (ipykernel)",
   "language": "python",
   "name": "python3"
  },
  "language_info": {
   "codemirror_mode": {
    "name": "ipython",
    "version": 3
   },
   "file_extension": ".py",
   "mimetype": "text/x-python",
   "name": "python",
   "nbconvert_exporter": "python",
   "pygments_lexer": "ipython3",
   "version": "3.9.13"
  }
 },
 "nbformat": 4,
 "nbformat_minor": 5
}
