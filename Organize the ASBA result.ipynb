{
 "cells": [
  {
   "cell_type": "code",
   "execution_count": null,
   "id": "a13b366e",
   "metadata": {},
   "outputs": [],
   "source": [
    "import re\n",
    "import pandas as pd\n",
    "\n",
    "df = pd.read_excel('/Users/raphael/Desktop/Twitter Data/information extraction.xlsx')\n",
    "df['Aspect'] = ''\n",
    "df['Opinion'] = ''\n",
    "df['Sentiment'] = ''\n",
    "\n",
    "# Extract aspect, opinion and sentiment separately and store them into different columns \n",
    "pattern1 = r\"(?:\\s?,\\s?\\{'\\s?text\\s?'|'\\s?evaluation dimension\\s?': \\[\\{'\\s?text\\s?')\\s?: '([^']*)'\"\n",
    "pattern2 = r\"(?:'point of view'|'opinion'|'opinion words'|'viewpoint'): \\[\\{'\\s?text\\s?'\\s?: '([^']*)'\"\n",
    "pattern3 = r\"'emotional tendency\\s?\\[\\s?positive,\\s?negative\\s?\\]': \\[\\{'\\s?text\\s?'\\s?: '([^']*)'\"\n",
    "\n",
    "for i in range(len(df['Result'])):\n",
    "    print(i)\n",
    "    df['Aspect'].iloc[i] = re.findall(pattern1, df['Result'].iloc[i].lower())\n",
    "    df['Opinion'].iloc[i] = re.findall(pattern2, df['Result'].iloc[i].lower())\n",
    "    df['Sentiment'].iloc[i] = re.findall(pattern3, df['Result'].iloc[i].lower())\n",
    "    print(df['Aspect'].iloc[i])\n",
    "    print(df['Opinion'].iloc[i])\n",
    "    print(df['Sentiment'].iloc[i])\n",
    "    \n"
   ]
  },
  {
   "cell_type": "code",
   "execution_count": null,
   "id": "d3b9277e",
   "metadata": {},
   "outputs": [],
   "source": [
    "import pandas as pd\n",
    "\n",
    "df = pd.read_excel('/Users/raphael/Desktop/Twitter Data/information extraction5.xlsx', sheet_name='Sheet2')\n",
    "\n",
    "df['Sentiment'] = df['Sentiment'].apply(ast.literal_eval)\n",
    "df['Aspect'] = df['Aspect'].apply(ast.literal_eval)\n",
    "df['Opinion'] = df['Opinion'].apply(ast.literal_eval)\n",
    "df['zipped'] = ''\n",
    "\n",
    "# Get the triplet of asppect, opinion and sentiment\n",
    "for i in range(len(df)):\n",
    "    df['zipped'].iloc[i] = list(zip(df['Sentiment'].iloc[i], df['Aspect'].iloc[i], df['Opinion'].iloc[i]))\n",
    "    print(df['zipped'].iloc[i])\n",
    "    \n",
    "# Group the DataFrame by 'dominant_topic' and the first element (sentiment) in each tuple\n",
    "groups = df.groupby(['dominant_topic', df['zipped'].apply(lambda x: x[0][0])])\n"
   ]
  }
 ],
 "metadata": {
  "kernelspec": {
   "display_name": "Python 3 (ipykernel)",
   "language": "python",
   "name": "python3"
  },
  "language_info": {
   "codemirror_mode": {
    "name": "ipython",
    "version": 3
   },
   "file_extension": ".py",
   "mimetype": "text/x-python",
   "name": "python",
   "nbconvert_exporter": "python",
   "pygments_lexer": "ipython3",
   "version": "3.9.13"
  }
 },
 "nbformat": 4,
 "nbformat_minor": 5
}
